{
 "cells": [
  {
   "cell_type": "code",
   "execution_count": 1,
   "metadata": {},
   "outputs": [],
   "source": [
    "import pandas as pd    \n",
    "import numpy as np\n",
    "import matplotlib.pyplot as plt\n",
    "import seaborn as sns\n",
    "from sklearn.compose import ColumnTransformer\n",
    "from sklearn.model_selection import train_test_split\n",
    "from sklearn.preprocessing import OneHotEncoder,LabelEncoder,StandardScaler\n",
    "from sklearn.tree import DecisionTreeClassifier\n",
    "from sklearn.metrics import confusion_matrix,classification_report,accuracy_score\n",
    "from sklearn.linear_model import LogisticRegression\n",
    "from sklearn.model_selection import StratifiedKFold\n",
    "from sklearn.model_selection import GridSearchCV\n",
    "sns.set()"
   ]
  },
  {
   "cell_type": "code",
   "execution_count": 2,
   "metadata": {},
   "outputs": [],
   "source": [
    "df = pd.read_csv(\"crx.csv\")"
   ]
  },
  {
   "cell_type": "code",
   "execution_count": 3,
   "metadata": {},
   "outputs": [
    {
     "data": {
      "text/html": [
       "<div>\n",
       "<style scoped>\n",
       "    .dataframe tbody tr th:only-of-type {\n",
       "        vertical-align: middle;\n",
       "    }\n",
       "\n",
       "    .dataframe tbody tr th {\n",
       "        vertical-align: top;\n",
       "    }\n",
       "\n",
       "    .dataframe thead th {\n",
       "        text-align: right;\n",
       "    }\n",
       "</style>\n",
       "<table border=\"1\" class=\"dataframe\">\n",
       "  <thead>\n",
       "    <tr style=\"text-align: right;\">\n",
       "      <th></th>\n",
       "      <th>Gender</th>\n",
       "      <th>Age</th>\n",
       "      <th>Debt</th>\n",
       "      <th>Married</th>\n",
       "      <th>BankCustomer</th>\n",
       "      <th>EducationLevel</th>\n",
       "      <th>Ethnicity</th>\n",
       "      <th>YearsEmployed</th>\n",
       "      <th>PriorDefault</th>\n",
       "      <th>Employed</th>\n",
       "      <th>CreditScore</th>\n",
       "      <th>DriversLicense</th>\n",
       "      <th>Citizen</th>\n",
       "      <th>ZipCode</th>\n",
       "      <th>Income</th>\n",
       "      <th>Approved</th>\n",
       "    </tr>\n",
       "  </thead>\n",
       "  <tbody>\n",
       "    <tr>\n",
       "      <td>0</td>\n",
       "      <td>b</td>\n",
       "      <td>30.83</td>\n",
       "      <td>0.000</td>\n",
       "      <td>u</td>\n",
       "      <td>g</td>\n",
       "      <td>w</td>\n",
       "      <td>v</td>\n",
       "      <td>1.25</td>\n",
       "      <td>t</td>\n",
       "      <td>t</td>\n",
       "      <td>1</td>\n",
       "      <td>f</td>\n",
       "      <td>g</td>\n",
       "      <td>202</td>\n",
       "      <td>0</td>\n",
       "      <td>+</td>\n",
       "    </tr>\n",
       "    <tr>\n",
       "      <td>1</td>\n",
       "      <td>a</td>\n",
       "      <td>58.67</td>\n",
       "      <td>4.460</td>\n",
       "      <td>u</td>\n",
       "      <td>g</td>\n",
       "      <td>q</td>\n",
       "      <td>h</td>\n",
       "      <td>3.04</td>\n",
       "      <td>t</td>\n",
       "      <td>t</td>\n",
       "      <td>6</td>\n",
       "      <td>f</td>\n",
       "      <td>g</td>\n",
       "      <td>43</td>\n",
       "      <td>560</td>\n",
       "      <td>+</td>\n",
       "    </tr>\n",
       "    <tr>\n",
       "      <td>2</td>\n",
       "      <td>a</td>\n",
       "      <td>24.5</td>\n",
       "      <td>0.500</td>\n",
       "      <td>u</td>\n",
       "      <td>g</td>\n",
       "      <td>q</td>\n",
       "      <td>h</td>\n",
       "      <td>1.50</td>\n",
       "      <td>t</td>\n",
       "      <td>f</td>\n",
       "      <td>0</td>\n",
       "      <td>f</td>\n",
       "      <td>g</td>\n",
       "      <td>280</td>\n",
       "      <td>824</td>\n",
       "      <td>+</td>\n",
       "    </tr>\n",
       "    <tr>\n",
       "      <td>3</td>\n",
       "      <td>b</td>\n",
       "      <td>27.83</td>\n",
       "      <td>1.540</td>\n",
       "      <td>u</td>\n",
       "      <td>g</td>\n",
       "      <td>w</td>\n",
       "      <td>v</td>\n",
       "      <td>3.75</td>\n",
       "      <td>t</td>\n",
       "      <td>t</td>\n",
       "      <td>5</td>\n",
       "      <td>t</td>\n",
       "      <td>g</td>\n",
       "      <td>100</td>\n",
       "      <td>3</td>\n",
       "      <td>+</td>\n",
       "    </tr>\n",
       "    <tr>\n",
       "      <td>4</td>\n",
       "      <td>b</td>\n",
       "      <td>20.17</td>\n",
       "      <td>5.625</td>\n",
       "      <td>u</td>\n",
       "      <td>g</td>\n",
       "      <td>w</td>\n",
       "      <td>v</td>\n",
       "      <td>1.71</td>\n",
       "      <td>t</td>\n",
       "      <td>f</td>\n",
       "      <td>0</td>\n",
       "      <td>f</td>\n",
       "      <td>s</td>\n",
       "      <td>120</td>\n",
       "      <td>0</td>\n",
       "      <td>+</td>\n",
       "    </tr>\n",
       "  </tbody>\n",
       "</table>\n",
       "</div>"
      ],
      "text/plain": [
       "  Gender    Age   Debt Married BankCustomer EducationLevel Ethnicity  \\\n",
       "0      b  30.83  0.000       u            g              w         v   \n",
       "1      a  58.67  4.460       u            g              q         h   \n",
       "2      a   24.5  0.500       u            g              q         h   \n",
       "3      b  27.83  1.540       u            g              w         v   \n",
       "4      b  20.17  5.625       u            g              w         v   \n",
       "\n",
       "   YearsEmployed PriorDefault Employed   CreditScore DriversLicense  Citizen  \\\n",
       "0           1.25            t         t            1               f       g   \n",
       "1           3.04            t         t            6               f       g   \n",
       "2           1.50            t         f            0               f       g   \n",
       "3           3.75            t         t            5               t       g   \n",
       "4           1.71            t         f            0               f       s   \n",
       "\n",
       "  ZipCode  Income Approved  \n",
       "0     202       0        +  \n",
       "1      43     560        +  \n",
       "2     280     824        +  \n",
       "3     100       3        +  \n",
       "4     120       0        +  "
      ]
     },
     "execution_count": 3,
     "metadata": {},
     "output_type": "execute_result"
    }
   ],
   "source": [
    "df.head()"
   ]
  },
  {
   "cell_type": "code",
   "execution_count": 4,
   "metadata": {},
   "outputs": [
    {
     "name": "stdout",
     "output_type": "stream",
     "text": [
      "<class 'pandas.core.frame.DataFrame'>\n",
      "RangeIndex: 690 entries, 0 to 689\n",
      "Data columns (total 16 columns):\n",
      "Gender             690 non-null object\n",
      "Age                690 non-null object\n",
      "Debt               690 non-null float64\n",
      "Married            690 non-null object\n",
      "BankCustomer       690 non-null object\n",
      "EducationLevel     690 non-null object\n",
      "Ethnicity          690 non-null object\n",
      "YearsEmployed      690 non-null float64\n",
      "PriorDefault       690 non-null object\n",
      "Employed           690 non-null object\n",
      "CreditScore        690 non-null int64\n",
      "DriversLicense     690 non-null object\n",
      "Citizen            690 non-null object\n",
      "ZipCode            690 non-null object\n",
      "Income             690 non-null int64\n",
      "Approved           690 non-null object\n",
      "dtypes: float64(2), int64(2), object(12)\n",
      "memory usage: 86.4+ KB\n"
     ]
    }
   ],
   "source": [
    "df.info()"
   ]
  },
  {
   "cell_type": "code",
   "execution_count": 5,
   "metadata": {},
   "outputs": [
    {
     "data": {
      "text/html": [
       "<div>\n",
       "<style scoped>\n",
       "    .dataframe tbody tr th:only-of-type {\n",
       "        vertical-align: middle;\n",
       "    }\n",
       "\n",
       "    .dataframe tbody tr th {\n",
       "        vertical-align: top;\n",
       "    }\n",
       "\n",
       "    .dataframe thead th {\n",
       "        text-align: right;\n",
       "    }\n",
       "</style>\n",
       "<table border=\"1\" class=\"dataframe\">\n",
       "  <thead>\n",
       "    <tr style=\"text-align: right;\">\n",
       "      <th></th>\n",
       "      <th>Debt</th>\n",
       "      <th>YearsEmployed</th>\n",
       "      <th>CreditScore</th>\n",
       "      <th>Income</th>\n",
       "    </tr>\n",
       "  </thead>\n",
       "  <tbody>\n",
       "    <tr>\n",
       "      <td>count</td>\n",
       "      <td>690.000000</td>\n",
       "      <td>690.000000</td>\n",
       "      <td>690.00000</td>\n",
       "      <td>690.000000</td>\n",
       "    </tr>\n",
       "    <tr>\n",
       "      <td>mean</td>\n",
       "      <td>4.758725</td>\n",
       "      <td>2.223406</td>\n",
       "      <td>2.40000</td>\n",
       "      <td>1017.385507</td>\n",
       "    </tr>\n",
       "    <tr>\n",
       "      <td>std</td>\n",
       "      <td>4.978163</td>\n",
       "      <td>3.346513</td>\n",
       "      <td>4.86294</td>\n",
       "      <td>5210.102598</td>\n",
       "    </tr>\n",
       "    <tr>\n",
       "      <td>min</td>\n",
       "      <td>0.000000</td>\n",
       "      <td>0.000000</td>\n",
       "      <td>0.00000</td>\n",
       "      <td>0.000000</td>\n",
       "    </tr>\n",
       "    <tr>\n",
       "      <td>25%</td>\n",
       "      <td>1.000000</td>\n",
       "      <td>0.165000</td>\n",
       "      <td>0.00000</td>\n",
       "      <td>0.000000</td>\n",
       "    </tr>\n",
       "    <tr>\n",
       "      <td>50%</td>\n",
       "      <td>2.750000</td>\n",
       "      <td>1.000000</td>\n",
       "      <td>0.00000</td>\n",
       "      <td>5.000000</td>\n",
       "    </tr>\n",
       "    <tr>\n",
       "      <td>75%</td>\n",
       "      <td>7.207500</td>\n",
       "      <td>2.625000</td>\n",
       "      <td>3.00000</td>\n",
       "      <td>395.500000</td>\n",
       "    </tr>\n",
       "    <tr>\n",
       "      <td>max</td>\n",
       "      <td>28.000000</td>\n",
       "      <td>28.500000</td>\n",
       "      <td>67.00000</td>\n",
       "      <td>100000.000000</td>\n",
       "    </tr>\n",
       "  </tbody>\n",
       "</table>\n",
       "</div>"
      ],
      "text/plain": [
       "             Debt  YearsEmployed  CreditScore         Income\n",
       "count  690.000000     690.000000    690.00000     690.000000\n",
       "mean     4.758725       2.223406      2.40000    1017.385507\n",
       "std      4.978163       3.346513      4.86294    5210.102598\n",
       "min      0.000000       0.000000      0.00000       0.000000\n",
       "25%      1.000000       0.165000      0.00000       0.000000\n",
       "50%      2.750000       1.000000      0.00000       5.000000\n",
       "75%      7.207500       2.625000      3.00000     395.500000\n",
       "max     28.000000      28.500000     67.00000  100000.000000"
      ]
     },
     "execution_count": 5,
     "metadata": {},
     "output_type": "execute_result"
    }
   ],
   "source": [
    "df.describe()"
   ]
  },
  {
   "cell_type": "code",
   "execution_count": 6,
   "metadata": {},
   "outputs": [
    {
     "name": "stdout",
     "output_type": "stream",
     "text": [
      "COLUMN : Gender\n",
      "# UNIQUE VALUES : 3\n",
      "UNIQUE VALUES : ['b' 'a' '?']\n",
      "COLUMN : Age\n",
      "# UNIQUE VALUES : 350\n",
      "UNIQUE VALUES : ['30.83' '58.67' '24.5' '27.83' '20.17' '32.08' '33.17' '22.92' '54.42'\n",
      " '42.5' '22.08' '29.92' '38.25' '48.08' '45.83' '36.67' '28.25' '23.25'\n",
      " '21.83' '19.17' '25' '47.75' '27.42' '41.17' '15.83' '47' '56.58' '57.42'\n",
      " '42.08' '29.25' '42' '49.5' '36.75' '22.58' '27.25' '23' '27.75' '54.58'\n",
      " '34.17' '28.92' '29.67' '39.58' '56.42' '54.33' '41' '31.92' '41.5'\n",
      " '23.92' '25.75' '26' '37.42' '34.92' '34.25' '23.33' '23.17' '44.33'\n",
      " '35.17' '43.25' '56.75' '31.67' '23.42' '20.42' '26.67' '36' '25.5'\n",
      " '19.42' '32.33' '34.83' '38.58' '44.25' '44.83' '20.67' '34.08' '21.67'\n",
      " '21.5' '49.58' '27.67' '39.83' '?' '37.17' '25.67' '34' '49' '62.5'\n",
      " '31.42' '52.33' '28.75' '28.58' '22.5' '28.5' '37.5' '35.25' '18.67'\n",
      " '54.83' '40.92' '19.75' '29.17' '24.58' '33.75' '25.42' '37.75' '52.5'\n",
      " '57.83' '20.75' '39.92' '24.75' '44.17' '23.5' '47.67' '22.75' '34.42'\n",
      " '28.42' '67.75' '47.42' '36.25' '32.67' '48.58' '33.58' '18.83' '26.92'\n",
      " '31.25' '56.5' '43' '22.33' '32.83' '40.33' '30.5' '52.83' '46.67'\n",
      " '58.33' '37.33' '23.08' '32.75' '68.67' '28' '44' '25.08' '32' '60.58'\n",
      " '40.83' '19.33' '41.33' '56' '49.83' '22.67' '27' '26.08' '18.42' '21.25'\n",
      " '57.08' '22.42' '48.75' '40' '40.58' '28.67' '33.08' '21.33' '41.75'\n",
      " '34.5' '48.17' '27.58' '24.08' '24.83' '36.33' '35.42' '71.58' '39.5'\n",
      " '39.33' '24.33' '60.08' '55.92' '53.92' '18.92' '50.08' '65.42' '17.58'\n",
      " '18.08' '19.67' '25.17' '33.5' '58.42' '26.17' '42.83' '38.17' '20.5'\n",
      " '48.25' '28.33' '18.75' '18.5' '45' '40.25' '41.42' '17.83' '18.17' '20'\n",
      " '52.17' '50.75' '17.08' '18.33' '59.67' '18' '37.58' '30.67' '18.58'\n",
      " '16.25' '21.17' '17.67' '16.5' '29.5' '21.75' '18.25' '35.75' '16.08'\n",
      " '69.17' '32.92' '16.33' '22.17' '57.58' '15.92' '31.75' '19' '17.5'\n",
      " '33.67' '30.17' '33.25' '25.25' '34.75' '47.33' '39.08' '42.75' '38.92'\n",
      " '62.75' '32.25' '26.75' '63.33' '30.75' '16' '19.5' '32.42' '30.25'\n",
      " '26.83' '16.92' '24.42' '39.42' '23.58' '21.42' '33' '26.33' '26.25'\n",
      " '28.17' '20.83' '43.17' '56.83' '15.17' '29.83' '31' '51.92' '69.5'\n",
      " '19.58' '22.25' '38.42' '26.58' '35' '29.42' '49.17' '51.83' '58.58'\n",
      " '53.33' '27.17' '25.92' '30.58' '17.25' '27.33' '36.5' '29.75' '52.42'\n",
      " '36.17' '34.58' '21.92' '36.58' '31.08' '30.42' '21.08' '17.42' '39.17'\n",
      " '26.5' '17.33' '23.75' '34.67' '74.83' '45.33' '47.25' '24.17' '39.25'\n",
      " '39' '64.08' '31.33' '21' '13.75' '46' '20.25' '60.92' '30' '22.83'\n",
      " '45.17' '41.58' '55.75' '25.33' '31.83' '33.92' '24.92' '80.25' '30.08'\n",
      " '48.33' '76.75' '51.33' '41.92' '29.58' '32.17' '51.42' '42.17' '43.08'\n",
      " '59.5' '65.17' '20.33' '48.5' '28.08' '73.42' '51.58' '38.67' '46.08'\n",
      " '20.08' '42.25' '16.17' '47.83' '22' '38.33' '25.58' '21.58' '36.08'\n",
      " '38.75' '35.58' '31.58' '15.75' '17.92' '30.33' '47.17' '25.83' '50.25'\n",
      " '36.42']\n",
      "COLUMN : Debt\n",
      "# UNIQUE VALUES : 215\n",
      "UNIQUE VALUES : [ 0.     4.46   0.5    1.54   5.625  4.     1.04  11.585  4.915  0.83\n",
      "  1.835  6.     6.04  10.5    4.415  0.875  5.875  0.25   8.585 11.25\n",
      "  1.     8.    14.5    6.5    0.585 13.    18.5    8.5   14.79   9.79\n",
      "  7.585  5.125 10.75   1.5    1.585 11.75   9.415  9.17  15.     1.415\n",
      " 13.915 28.     6.75   2.04   0.665  2.5    3.    11.625  4.5   12.25\n",
      " 16.165  0.79   0.835  4.25   0.375 25.125  7.5    5.     7.     5.29\n",
      "  1.165  9.75  19.     3.5    0.625  2.21  12.75  15.5    1.375  3.54\n",
      " 11.     1.75  16.5   12.     2.25   0.75  12.5    1.25   1.125  7.04\n",
      " 10.335  6.21   6.665  9.     5.5    0.54   2.75   9.5   13.5    3.75\n",
      " 16.     0.29   1.665  7.54   0.46  10.    11.5    3.04   2.     0.08\n",
      "  1.71   3.25   2.54  13.585  8.665  9.25   8.17   2.335 19.5    5.665\n",
      "  4.625  0.205  0.96   4.04   5.04   3.165  7.625 10.04  10.25   2.125\n",
      "  9.335  6.625  2.71   9.625 12.54   9.54   8.46  13.75  21.    10.125\n",
      " 25.085  0.21  21.5   11.125 11.045  1.335  0.085  1.21   0.165  5.71\n",
      "  5.415 12.625  0.58   0.415  2.415  0.335  3.125 12.125  2.875 13.665\n",
      " 26.335 10.29   1.29  22.     0.125  1.085  4.085  4.71   6.165  4.585\n",
      " 11.46  14.585  0.17   1.625  2.085  5.085  8.125  2.835  1.79   0.705\n",
      "  2.165  2.29  18.125  3.085 11.665  4.125  1.08  13.335 11.835  4.79\n",
      "  9.96   7.08  25.21   0.67   3.79  22.29   3.335  0.42   1.46   0.04\n",
      " 12.33  12.335  0.915 14.    17.75  20.     5.25   4.165 10.915  4.75\n",
      " 10.415  7.835  0.71   2.46   9.585  3.625  2.665  5.835 12.835 10.665\n",
      "  7.25  10.21   3.29  10.085  3.375]\n",
      "COLUMN : Married\n",
      "# UNIQUE VALUES : 4\n",
      "UNIQUE VALUES : ['u' 'y' '?' 'l']\n",
      "COLUMN : BankCustomer\n",
      "# UNIQUE VALUES : 4\n",
      "UNIQUE VALUES : ['g' 'p' '?' 'gg']\n",
      "COLUMN : EducationLevel\n",
      "# UNIQUE VALUES : 15\n",
      "UNIQUE VALUES : ['w' 'q' 'm' 'r' 'cc' 'k' 'c' 'd' 'x' 'i' 'e' 'aa' 'ff' 'j' '?']\n",
      "COLUMN : Ethnicity\n",
      "# UNIQUE VALUES : 10\n",
      "UNIQUE VALUES : ['v' 'h' 'bb' 'ff' 'j' 'z' '?' 'o' 'dd' 'n']\n",
      "COLUMN : YearsEmployed\n",
      "# UNIQUE VALUES : 132\n",
      "UNIQUE VALUES : [ 1.25   3.04   1.5    3.75   1.71   2.5    6.5    0.04   3.96   3.165\n",
      "  2.165  4.335  1.     5.     0.25   0.96   3.17   0.665  0.75   0.835\n",
      "  7.875  3.085  0.5    5.165 15.     7.     5.04   7.96   7.585  0.415\n",
      "  2.     1.835 14.415  4.5    5.335  8.625 28.5    2.625  0.125  6.04\n",
      "  3.5    0.165  0.875  1.75   0.     7.415  0.085  5.75   6.     3.\n",
      "  1.585  4.29   1.54   1.46   1.625 12.5   13.5   10.75   0.375  0.585\n",
      "  0.455  4.     8.5    9.46   2.25  10.     0.795  1.375  1.29  11.5\n",
      "  6.29  14.     0.335  1.21   7.375  7.5    3.25  13.     5.5    4.25\n",
      "  0.625  5.085  2.75   2.375  8.     1.085  2.54   4.165  1.665 11.\n",
      "  9.     1.335  1.415  1.96   2.585  5.125 15.5    0.71   5.665 18.\n",
      "  5.25   8.665  2.29  20.     2.46  13.875  2.085  4.58   2.71   2.04\n",
      "  0.29   4.75   0.46   0.21   0.54   3.335  2.335  1.165  2.415  2.79\n",
      "  4.625  1.04   6.75   1.875 16.    12.75   5.375  2.125 17.5    3.125\n",
      "  0.79   8.29 ]\n",
      "COLUMN : PriorDefault\n",
      "# UNIQUE VALUES : 2\n",
      "UNIQUE VALUES : ['t' 'f']\n",
      "COLUMN : Employed \n",
      "# UNIQUE VALUES : 2\n",
      "UNIQUE VALUES : ['t' 'f']\n",
      "COLUMN : CreditScore\n",
      "# UNIQUE VALUES : 23\n",
      "UNIQUE VALUES : [ 1  6  0  5  7 10  3 17  2  9  8 15 11 12 40 23  4 20 67 14 16 13 19]\n",
      "COLUMN : DriversLicense \n",
      "# UNIQUE VALUES : 2\n",
      "UNIQUE VALUES : ['f' 't']\n",
      "COLUMN : Citizen\n",
      "# UNIQUE VALUES : 3\n",
      "UNIQUE VALUES : ['g' 's' 'p']\n",
      "COLUMN : ZipCode\n",
      "# UNIQUE VALUES : 171\n",
      "UNIQUE VALUES : ['202' '43' '280' '100' '120' '360' '164' '80' '180' '52' '128' '260' '0'\n",
      " '320' '396' '96' '200' '300' '145' '500' '168' '434' '583' '30' '240'\n",
      " '70' '455' '311' '216' '491' '400' '239' '160' '711' '250' '520' '515'\n",
      " '420' '?' '980' '443' '140' '94' '368' '288' '928' '188' '112' '171'\n",
      " '268' '167' '75' '152' '176' '329' '212' '410' '274' '375' '408' '350'\n",
      " '204' '40' '181' '399' '440' '93' '60' '395' '393' '21' '29' '102' '431'\n",
      " '370' '24' '20' '129' '510' '195' '144' '380' '49' '50' '381' '150' '117'\n",
      " '56' '211' '230' '156' '22' '228' '519' '253' '487' '220' '88' '73' '121'\n",
      " '470' '136' '132' '292' '154' '272' '340' '108' '720' '450' '232' '170'\n",
      " '1160' '411' '460' '348' '480' '640' '372' '276' '221' '352' '141' '178'\n",
      " '600' '550' '2000' '225' '210' '110' '356' '45' '62' '92' '174' '17' '86'\n",
      " '454' '254' '28' '263' '333' '312' '290' '371' '99' '252' '760' '560'\n",
      " '130' '523' '680' '163' '208' '383' '330' '422' '840' '432' '32' '186'\n",
      " '303' '349' '224' '369' '76' '231' '309' '416' '465' '256']\n",
      "COLUMN : Income\n",
      "# UNIQUE VALUES : 240\n",
      "UNIQUE VALUES : [     0    560    824      3  31285   1349    314   1442    200   2690\n",
      "    245   1208   1260     11  10000   5000   4000     35    713    551\n",
      "    500    300    221   2283    100     15    284   1236   5800    730\n",
      "    400  50000    456  15108   2954      2     20     27    225      1\n",
      "     38      5    130    147    210  11202   1332     50    258    567\n",
      "   1000   2510    809    610    150  51100    367    600    247    375\n",
      "    278    827   2072    582   2300   3065   2200      6   1602   2184\n",
      "   3376   2000   7544  10561    837  11177    639   2028   1065    540\n",
      "    158  15000   3000   3257   1655   1430      7    790    396    678\n",
      "   1187   6590    168   1270   1210    742   8851   7059   1704    857\n",
      "   6700   2503   9800    196     14  26726  18027     99    444   1200\n",
      "   2010     13    120     32    722     40    484    204     98   5552\n",
      "    105   2803    126      4     21    173     10     25     42 100000\n",
      "    113      8     44   2732    179     16   1062    251    228     67\n",
      "     12    122   4208   1300    112   1110   1004    286   4500   1212\n",
      "    195     87     17    184    140     18    146     22     55     70\n",
      "     60   1058    769   5200     19    316    350   3552    687   1950\n",
      "     53     41     33     80    351   2100    475    892   4607   2206\n",
      "   5860     28   1391   2279    591    960    690    234    800    990\n",
      "   2197     90    340    347    327   4071    109   1249    134   1344\n",
      "    321    948   2079   2384    458   5298    162   1583     58     59\n",
      "   1400   1465   8000   4700   1097   3290  13212   5777   5124     23\n",
      "   4159    918    768    283    108      9     68    587    141    501\n",
      "    160    390    154    117    246    237    364    537    394    750]\n",
      "COLUMN : Approved\n",
      "# UNIQUE VALUES : 2\n",
      "UNIQUE VALUES : ['+' '-']\n"
     ]
    }
   ],
   "source": [
    "for col in df:\n",
    "    print('COLUMN :',col)\n",
    "    print('# UNIQUE VALUES :',df[col].nunique())\n",
    "    print('UNIQUE VALUES :',df[col].unique())"
   ]
  },
  {
   "cell_type": "code",
   "execution_count": 7,
   "metadata": {},
   "outputs": [],
   "source": [
    "df=df.replace('?',np.nan)"
   ]
  },
  {
   "cell_type": "code",
   "execution_count": 8,
   "metadata": {},
   "outputs": [],
   "source": [
    "df['Age']=pd.to_numeric(df['Age'])"
   ]
  },
  {
   "cell_type": "code",
   "execution_count": 9,
   "metadata": {
    "scrolled": true
   },
   "outputs": [
    {
     "data": {
      "text/plain": [
       "Gender             12\n",
       "Age                12\n",
       "Debt                0\n",
       "Married             6\n",
       "BankCustomer        6\n",
       "EducationLevel      9\n",
       "Ethnicity           9\n",
       "YearsEmployed       0\n",
       "PriorDefault        0\n",
       "Employed            0\n",
       "CreditScore         0\n",
       "DriversLicense      0\n",
       "Citizen             0\n",
       "ZipCode            13\n",
       "Income              0\n",
       "Approved            0\n",
       "dtype: int64"
      ]
     },
     "execution_count": 9,
     "metadata": {},
     "output_type": "execute_result"
    }
   ],
   "source": [
    "df.isnull().sum()"
   ]
  },
  {
   "cell_type": "code",
   "execution_count": 10,
   "metadata": {},
   "outputs": [],
   "source": [
    "objVar = [x for x in df.columns if x in df.loc[:,df.dtypes==np.object].columns]\n",
    "\n",
    "for x in objVar:\n",
    "    df[x] = df[x].fillna(df[x].mode().iloc[0])\n",
    "\n",
    "nonobjVar = [x for x in df.columns if x not in df.loc[:,df.dtypes==np.object].columns]\n",
    "\n",
    "for x in nonobjVar:\n",
    "    df[x] = df[x].fillna(df[x].mean())"
   ]
  },
  {
   "cell_type": "code",
   "execution_count": 11,
   "metadata": {},
   "outputs": [
    {
     "data": {
      "image/png": "[encoded data removed]",
      "text/plain": [
       "<Figure size 432x288 with 1 Axes>"
      ]
     },
     "metadata": {
      "needs_background": "light"
     },
     "output_type": "display_data"
    },
    {
     "data": {
      "image/png": "[encoded data removed]",
      "text/plain": [
       "<Figure size 432x288 with 1 Axes>"
      ]
     },
     "metadata": {
      "needs_background": "light"
     },
     "output_type": "display_data"
    },
    {
     "data": {
      "image/png": "[encoded data removed]",
      "text/plain": [
       "<Figure size 432x288 with 1 Axes>"
      ]
     },
     "metadata": {
      "needs_background": "light"
     },
     "output_type": "display_data"
    },
    {
     "data": {
      "image/png": "[encoded data removed]",
      "text/plain": [
       "<Figure size 432x288 with 1 Axes>"
      ]
     },
     "metadata": {
      "needs_background": "light"
     },
     "output_type": "display_data"
    },
    {
     "data": {
      "image/png": "[encoded data removed]",
      "text/plain": [
       "<Figure size 432x288 with 1 Axes>"
      ]
     },
     "metadata": {
      "needs_background": "light"
     },
     "output_type": "display_data"
    },
    {
     "data": {
      "image/png": "[encoded data removed]",
      "text/plain": [
       "<Figure size 432x288 with 1 Axes>"
      ]
     },
     "metadata": {
      "needs_background": "light"
     },
     "output_type": "display_data"
    },
    {
     "data": {
      "image/png": "[encoded data removed]",
      "text/plain": [
       "<Figure size 432x288 with 1 Axes>"
      ]
     },
     "metadata": {
      "needs_background": "light"
     },
     "output_type": "display_data"
    },
    {
     "data": {
      "image/png": "[encoded data removed]",
      "text/plain": [
       "<Figure size 432x288 with 1 Axes>"
      ]
     },
     "metadata": {
      "needs_background": "light"
     },
     "output_type": "display_data"
    },
    {
     "data": {
      "image/png": "[encoded data removed]",
      "text/plain": [
       "<Figure size 432x288 with 1 Axes>"
      ]
     },
     "metadata": {
      "needs_background": "light"
     },
     "output_type": "display_data"
    },
    {
     "data": {
      "image/png": "[encoded data removed]",
      "text/plain": [
       "<Figure size 432x288 with 1 Axes>"
      ]
     },
     "metadata": {
      "needs_background": "light"
     },
     "output_type": "display_data"
    },
    {
     "data": {
      "image/png": "[encoded data removed]",
      "text/plain": [
       "<Figure size 432x288 with 1 Axes>"
      ]
     },
     "metadata": {
      "needs_background": "light"
     },
     "output_type": "display_data"
    }
   ],
   "source": [
    "for i in objVar:\n",
    "    sns.countplot(data=df,x=i)\n",
    "    plt.show()"
   ]
  },
  {
   "cell_type": "code",
   "execution_count": 12,
   "metadata": {},
   "outputs": [
    {
     "data": {
      "image/png": "[encoded data removed]",
      "text/plain": [
       "<Figure size 432x288 with 1 Axes>"
      ]
     },
     "metadata": {
      "needs_background": "light"
     },
     "output_type": "display_data"
    },
    {
     "data": {
      "image/png": "[encoded data removed]",
      "text/plain": [
       "<Figure size 432x288 with 1 Axes>"
      ]
     },
     "metadata": {
      "needs_background": "light"
     },
     "output_type": "display_data"
    },
    {
     "data": {
      "image/png": "[encoded data removed]",
      "text/plain": [
       "<Figure size 432x288 with 1 Axes>"
      ]
     },
     "metadata": {
      "needs_background": "light"
     },
     "output_type": "display_data"
    },
    {
     "data": {
      "image/png": "[encoded data removed]",
      "text/plain": [
       "<Figure size 432x288 with 1 Axes>"
      ]
     },
     "metadata": {
      "needs_background": "light"
     },
     "output_type": "display_data"
    },
    {
     "data": {
      "image/png": "[encoded data removed]",
      "text/plain": [
       "<Figure size 432x288 with 1 Axes>"
      ]
     },
     "metadata": {
      "needs_background": "light"
     },
     "output_type": "display_data"
    }
   ],
   "source": [
    "for i in nonobjVar:\n",
    "    sns.distplot(df[i],color='red',label=i,kde=True)\n",
    "    plt.legend()\n",
    "    plt.show()"
   ]
  },
  {
   "cell_type": "code",
   "execution_count": 13,
   "metadata": {},
   "outputs": [],
   "source": [
    "X = df.iloc[:, 0:15].values\n",
    "Y = df.iloc[:, 15].values"
   ]
  },
  {
   "cell_type": "code",
   "execution_count": 14,
   "metadata": {},
   "outputs": [],
   "source": [
    "ct = ColumnTransformer(transformers= [('encoder', OneHotEncoder(), [0,3,4,5,6,8,9,11,12])], remainder= 'passthrough')\n",
    "labelencoder_x = LabelEncoder()\n",
    "X[:,13] = labelencoder_x.fit_transform(X[:, 13])\n",
    "X = np.array(ct.fit_transform(X))\n",
    "labelencoder_y = LabelEncoder()\n",
    "Y = labelencoder_y.fit_transform(Y)"
   ]
  },
  {
   "cell_type": "code",
   "execution_count": 15,
   "metadata": {},
   "outputs": [],
   "source": [
    "X_train, X_test, Y_train, Y_test = train_test_split(X, Y, test_size = 0.2, random_state = 0)"
   ]
  },
  {
   "cell_type": "code",
   "execution_count": 16,
   "metadata": {},
   "outputs": [],
   "source": [
    "sc_X = StandardScaler()\n",
    "X_train = sc_X.fit_transform(X_train)\n",
    "X_test = sc_X.transform(X_test)"
   ]
  },
  {
   "cell_type": "code",
   "execution_count": 17,
   "metadata": {},
   "outputs": [
    {
     "data": {
      "text/plain": [
       "DecisionTreeClassifier(ccp_alpha=0.0, class_weight=None, criterion='gini',\n",
       "                       max_depth=None, max_features=None, max_leaf_nodes=None,\n",
       "                       min_impurity_decrease=0.0, min_impurity_split=None,\n",
       "                       min_samples_leaf=1, min_samples_split=2,\n",
       "                       min_weight_fraction_leaf=0.0, presort='deprecated',\n",
       "                       random_state=None, splitter='best')"
      ]
     },
     "execution_count": 17,
     "metadata": {},
     "output_type": "execute_result"
    }
   ],
   "source": [
    "clf = DecisionTreeClassifier(criterion = \"gini\")\n",
    "clf.fit(X_train, Y_train)"
   ]
  },
  {
   "cell_type": "code",
   "execution_count": 18,
   "metadata": {},
   "outputs": [
    {
     "name": "stdout",
     "output_type": "stream",
     "text": [
      "Confusion Matrix:  [[42 18]\n",
      " [18 60]]\n",
      "Report :                precision    recall  f1-score   support\n",
      "\n",
      "           0       0.70      0.70      0.70        60\n",
      "           1       0.77      0.77      0.77        78\n",
      "\n",
      "    accuracy                           0.74       138\n",
      "   macro avg       0.73      0.73      0.73       138\n",
      "weighted avg       0.74      0.74      0.74       138\n",
      "\n",
      "Accuracy :  73.91304347826086\n"
     ]
    }
   ],
   "source": [
    "prediction=clf.predict(X_test)\n",
    "print(\"Confusion Matrix: \",confusion_matrix(Y_test,prediction))\n",
    "print(\"Report : \",classification_report(Y_test,prediction)) \n",
    "print (\"Accuracy : \",accuracy_score(Y_test,prediction)*100) "
   ]
  },
  {
   "cell_type": "code",
   "execution_count": 19,
   "metadata": {},
   "outputs": [
    {
     "data": {
      "text/plain": [
       "(0, 2)"
      ]
     },
     "execution_count": 19,
     "metadata": {},
     "output_type": "execute_result"
    },
    {
     "data": {
      "image/png": "[encoded data removed]",
      "text/plain": [
       "<Figure size 432x288 with 2 Axes>"
      ]
     },
     "metadata": {
      "needs_background": "light"
     },
     "output_type": "display_data"
    }
   ],
   "source": [
    "confusionMat = confusion_matrix(Y_test, prediction)\n",
    "ax = sns.heatmap(confusionMat, annot=True)\n",
    "ax.set_ylim([0,2])"
   ]
  },
  {
   "cell_type": "code",
   "execution_count": 20,
   "metadata": {},
   "outputs": [
    {
     "data": {
      "text/plain": [
       "LogisticRegression(C=1.0, class_weight=None, dual=False, fit_intercept=True,\n",
       "                   intercept_scaling=1, l1_ratio=None, max_iter=100,\n",
       "                   multi_class='auto', n_jobs=None, penalty='l2',\n",
       "                   random_state=0, solver='lbfgs', tol=0.0001, verbose=0,\n",
       "                   warm_start=False)"
      ]
     },
     "execution_count": 20,
     "metadata": {},
     "output_type": "execute_result"
    }
   ],
   "source": [
    "clf = LogisticRegression(random_state = 0)\n",
    "clf.fit(X_train,Y_train)"
   ]
  },
  {
   "cell_type": "code",
   "execution_count": 21,
   "metadata": {},
   "outputs": [
    {
     "name": "stdout",
     "output_type": "stream",
     "text": [
      "Confusion Matrix:  [[47 13]\n",
      " [15 63]]\n",
      "Report :                precision    recall  f1-score   support\n",
      "\n",
      "           0       0.76      0.78      0.77        60\n",
      "           1       0.83      0.81      0.82        78\n",
      "\n",
      "    accuracy                           0.80       138\n",
      "   macro avg       0.79      0.80      0.79       138\n",
      "weighted avg       0.80      0.80      0.80       138\n",
      "\n",
      "Accuracy :  79.71014492753623\n"
     ]
    }
   ],
   "source": [
    "prediction=clf.predict(X_test)\n",
    "print(\"Confusion Matrix: \",confusion_matrix(Y_test,prediction))\n",
    "print(\"Report : \",classification_report(Y_test,prediction)) \n",
    "print (\"Accuracy : \",accuracy_score(Y_test,prediction)*100) "
   ]
  },
  {
   "cell_type": "code",
   "execution_count": 22,
   "metadata": {},
   "outputs": [
    {
     "data": {
      "text/plain": [
       "(0, 2)"
      ]
     },
     "execution_count": 22,
     "metadata": {},
     "output_type": "execute_result"
    },
    {
     "data": {
      "image/png": "[encoded data removed]",
      "text/plain": [
       "<Figure size 432x288 with 2 Axes>"
      ]
     },
     "metadata": {
      "needs_background": "light"
     },
     "output_type": "display_data"
    }
   ],
   "source": [
    "confusionMat = confusion_matrix(Y_test, prediction)\n",
    "ax = sns.heatmap(confusionMat, annot=True)\n",
    "ax.set_ylim([0,2])"
   ]
  },
  {
   "cell_type": "code",
   "execution_count": 23,
   "metadata": {},
   "outputs": [
    {
     "name": "stdout",
     "output_type": "stream",
     "text": [
      "Best parameters set found on dev set:  {'criterion': 'entropy', 'max_depth': 7, 'min_samples_leaf': 1}\n"
     ]
    }
   ],
   "source": [
    "#GRID SEARCH DT\n",
    "params = [\n",
    "{\n",
    "'criterion': ['gini', 'entropy'], \n",
    "'max_depth': [3, 5, 7],\n",
    "'min_samples_leaf': [1, 3, 5, 7]\n",
    "}\n",
    "]\n",
    "\n",
    "clf = GridSearchCV(\n",
    "DecisionTreeClassifier(),\n",
    "params,\n",
    "cv=StratifiedKFold(n_splits=3, shuffle=True, random_state=0)\n",
    ")\n",
    "clf.fit(X_train, Y_train)\n",
    "print(\"Best parameters set found on dev set: \", clf.best_params_)"
   ]
  },
  {
   "cell_type": "code",
   "execution_count": 24,
   "metadata": {},
   "outputs": [
    {
     "name": "stdout",
     "output_type": "stream",
     "text": [
      "Confusion Matrix:  [[49 11]\n",
      " [16 62]]\n",
      "Report :                precision    recall  f1-score   support\n",
      "\n",
      "           0       0.75      0.82      0.78        60\n",
      "           1       0.85      0.79      0.82        78\n",
      "\n",
      "    accuracy                           0.80       138\n",
      "   macro avg       0.80      0.81      0.80       138\n",
      "weighted avg       0.81      0.80      0.81       138\n",
      "\n",
      "Accuracy :  80.43478260869566\n"
     ]
    }
   ],
   "source": [
    "clf = DecisionTreeClassifier(criterion='entropy', max_depth= 7, min_samples_leaf= 1,random_state=0)\n",
    "clf.fit(X_train, Y_train)\n",
    "prediction=clf.predict(X_test)\n",
    "print(\"Confusion Matrix: \",confusion_matrix(Y_test,prediction))\n",
    "print(\"Report : \",classification_report(Y_test,prediction)) \n",
    "print (\"Accuracy : \",accuracy_score(Y_test,prediction)*100) "
   ]
  },
  {
   "cell_type": "code",
   "execution_count": 25,
   "metadata": {},
   "outputs": [],
   "source": [
    "#GRID SEARCH LOG REG\n",
    "params =[ \n",
    "{'tol' : [0.01,0.001,0.0001],\n",
    "'max_iter' : [100,150,200]\n",
    "}\n",
    "]"
   ]
  },
  {
   "cell_type": "code",
   "execution_count": 26,
   "metadata": {},
   "outputs": [
    {
     "name": "stdout",
     "output_type": "stream",
     "text": [
      "Best parameters set found on dev set:  {'max_iter': 100, 'tol': 0.001}\n"
     ]
    }
   ],
   "source": [
    "clf = GridSearchCV(LogisticRegression(), params,\n",
    "cv=StratifiedKFold(n_splits=3, shuffle=True, random_state=0))\n",
    "clf.fit(X_train, Y_train)\n",
    "print(\"Best parameters set found on dev set: \", clf.best_params_)"
   ]
  },
  {
   "cell_type": "code",
   "execution_count": 27,
   "metadata": {},
   "outputs": [
    {
     "data": {
      "text/plain": [
       "LogisticRegression(C=1.0, class_weight=None, dual=False, fit_intercept=True,\n",
       "                   intercept_scaling=1, l1_ratio=None, max_iter=100,\n",
       "                   multi_class='auto', n_jobs=None, penalty='l2',\n",
       "                   random_state=0, solver='lbfgs', tol=0.001, verbose=0,\n",
       "                   warm_start=False)"
      ]
     },
     "execution_count": 27,
     "metadata": {},
     "output_type": "execute_result"
    }
   ],
   "source": [
    "clf = LogisticRegression(max_iter=100,tol=0.001,random_state = 0)\n",
    "clf.fit(X_train,Y_train)"
   ]
  },
  {
   "cell_type": "code",
   "execution_count": 28,
   "metadata": {},
   "outputs": [
    {
     "name": "stdout",
     "output_type": "stream",
     "text": [
      "Confusion Matrix:  [[47 13]\n",
      " [15 63]]\n",
      "Report :                precision    recall  f1-score   support\n",
      "\n",
      "           0       0.76      0.78      0.77        60\n",
      "           1       0.83      0.81      0.82        78\n",
      "\n",
      "    accuracy                           0.80       138\n",
      "   macro avg       0.79      0.80      0.79       138\n",
      "weighted avg       0.80      0.80      0.80       138\n",
      "\n",
      "Accuracy :  79.71014492753623\n"
     ]
    }
   ],
   "source": [
    "prediction=clf.predict(X_test)\n",
    "print(\"Confusion Matrix: \",confusion_matrix(Y_test,prediction))\n",
    "print(\"Report : \",classification_report(Y_test,prediction)) \n",
    "print (\"Accuracy : \",accuracy_score(Y_test,prediction)*100) "
   ]
  },
  {
   "cell_type": "code",
   "execution_count": 29,
   "metadata": {},
   "outputs": [
    {
     "data": {
      "text/plain": [
       "(0, 2)"
      ]
     },
     "execution_count": 29,
     "metadata": {},
     "output_type": "execute_result"
    },
    {
     "data": {
      "image/png": "[encoded data removed]",
      "text/plain": [
       "<Figure size 432x288 with 2 Axes>"
      ]
     },
     "metadata": {
      "needs_background": "light"
     },
     "output_type": "display_data"
    }
   ],
   "source": [
    "confusionMat = confusion_matrix(Y_test, prediction)\n",
    "ax = sns.heatmap(confusionMat, annot=True)\n",
    "ax.set_ylim([0,2])"
   ]
  }
 ],
 "metadata": {
  "kernelspec": {
   "display_name": "Python 3",
   "language": "python",
   "name": "python3"
  },
  "language_info": {
   "codemirror_mode": {
    "name": "ipython",
    "version": 3
   },
   "file_extension": ".py",
   "mimetype": "text/x-python",
   "name": "python",
   "nbconvert_exporter": "python",
   "pygments_lexer": "ipython3",
   "version": "3.7.4"
  }
 },
 "nbformat": 4,
 "nbformat_minor": 2
}
